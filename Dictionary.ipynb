{
 "cells": [
  {
   "cell_type": "code",
   "execution_count": 9,
   "id": "24fb6e42",
   "metadata": {},
   "outputs": [
    {
     "name": "stdout",
     "output_type": "stream",
     "text": [
      "Diana's grade is :  88\n"
     ]
    }
   ],
   "source": [
    "grades = {\"Alice\": 85, \"Bob\": 78, \"Charlie\": 92, \"Diana\": 88}\n",
    "print(\"Diana's grade is : \",grades[\"Diana\"])"
   ]
  },
  {
   "cell_type": "code",
   "execution_count": 10,
   "id": "b31487bc",
   "metadata": {},
   "outputs": [],
   "source": [
    "grades[\"Eve\"] = 90"
   ]
  },
  {
   "cell_type": "code",
   "execution_count": 11,
   "id": "7b4b81b3",
   "metadata": {},
   "outputs": [
    {
     "data": {
      "text/plain": [
       "{'Alice': 85, 'Bob': 78, 'Charlie': 92, 'Diana': 88, 'Eve': 90}"
      ]
     },
     "execution_count": 11,
     "metadata": {},
     "output_type": "execute_result"
    }
   ],
   "source": [
    "grades"
   ]
  },
  {
   "cell_type": "code",
   "execution_count": 13,
   "id": "b4ba9387",
   "metadata": {},
   "outputs": [
    {
     "data": {
      "text/plain": [
       "{'Alice': 85, 'Bob': 80, 'Charlie': 92, 'Diana': 88, 'Eve': 90}"
      ]
     },
     "execution_count": 13,
     "metadata": {},
     "output_type": "execute_result"
    }
   ],
   "source": [
    "grades[\"Bob\"] = 80\n",
    "grades"
   ]
  },
  {
   "cell_type": "code",
   "execution_count": 15,
   "id": "0c44a874",
   "metadata": {},
   "outputs": [
    {
     "name": "stdout",
     "output_type": "stream",
     "text": [
      "Average grades =  87.0\n"
     ]
    }
   ],
   "source": [
    "print(\"Average grades = \", sum(grades.values())/len(grades.values()))"
   ]
  },
  {
   "cell_type": "code",
   "execution_count": 16,
   "id": "6dd46af0",
   "metadata": {},
   "outputs": [
    {
     "data": {
      "text/plain": [
       "75"
      ]
     },
     "execution_count": 16,
     "metadata": {},
     "output_type": "execute_result"
    }
   ],
   "source": [
    "inventory = {\"apples\": 50, \"bananas\": 100, \"oranges\": 75}\n",
    "inventory['oranges']"
   ]
  },
  {
   "cell_type": "code",
   "execution_count": 17,
   "id": "1789b083",
   "metadata": {},
   "outputs": [],
   "source": [
    "inventory['grapes'] = 60"
   ]
  },
  {
   "cell_type": "code",
   "execution_count": 18,
   "id": "e53715da",
   "metadata": {},
   "outputs": [
    {
     "data": {
      "text/plain": [
       "{'apples': 50, 'bananas': 100, 'oranges': 75, 'grapes': 60}"
      ]
     },
     "execution_count": 18,
     "metadata": {},
     "output_type": "execute_result"
    }
   ],
   "source": [
    "inventory"
   ]
  },
  {
   "cell_type": "code",
   "execution_count": 21,
   "id": "08ab188e",
   "metadata": {},
   "outputs": [],
   "source": [
    "inventory['bananas'] = inventory['bananas'] - 20"
   ]
  },
  {
   "cell_type": "code",
   "execution_count": 22,
   "id": "900cd1c8",
   "metadata": {},
   "outputs": [
    {
     "data": {
      "text/plain": [
       "{'apples': 50, 'bananas': 80, 'oranges': 75, 'grapes': 60}"
      ]
     },
     "execution_count": 22,
     "metadata": {},
     "output_type": "execute_result"
    }
   ],
   "source": [
    "inventory"
   ]
  },
  {
   "cell_type": "code",
   "execution_count": 25,
   "id": "c70858e0",
   "metadata": {},
   "outputs": [
    {
     "data": {
      "text/plain": [
       "4"
      ]
     },
     "execution_count": 25,
     "metadata": {},
     "output_type": "execute_result"
    }
   ],
   "source": [
    "len(inventory.items())"
   ]
  },
  {
   "cell_type": "code",
   "execution_count": 26,
   "id": "d8393125",
   "metadata": {},
   "outputs": [
    {
     "data": {
      "text/plain": [
       "{'ORD001': 250.0, 'ORD002': 100.0, 'ORD003': 450.0, 'ORD004': 300}"
      ]
     },
     "execution_count": 26,
     "metadata": {},
     "output_type": "execute_result"
    }
   ],
   "source": [
    "orders = {\"ORD001\": 250.0, \"ORD002\": 100.0, \"ORD003\": 450.0}\n",
    "orders['ORD004'] = 300\n",
    "orders"
   ]
  },
  {
   "cell_type": "code",
   "execution_count": 28,
   "id": "ac8ddb91",
   "metadata": {},
   "outputs": [
    {
     "data": {
      "text/plain": [
       "100.0"
      ]
     },
     "execution_count": 28,
     "metadata": {},
     "output_type": "execute_result"
    }
   ],
   "source": [
    "orders.pop('ORD002')"
   ]
  },
  {
   "cell_type": "code",
   "execution_count": 29,
   "id": "45cf66c8",
   "metadata": {},
   "outputs": [
    {
     "data": {
      "text/plain": [
       "{'ORD001': 250.0, 'ORD003': 450.0, 'ORD004': 300}"
      ]
     },
     "execution_count": 29,
     "metadata": {},
     "output_type": "execute_result"
    }
   ],
   "source": [
    "orders"
   ]
  },
  {
   "cell_type": "code",
   "execution_count": 31,
   "id": "6e070b72",
   "metadata": {},
   "outputs": [
    {
     "data": {
      "text/plain": [
       "1000.0"
      ]
     },
     "execution_count": 31,
     "metadata": {},
     "output_type": "execute_result"
    }
   ],
   "source": [
    "sum(orders.values())"
   ]
  },
  {
   "cell_type": "code",
   "execution_count": 42,
   "id": "9acab020",
   "metadata": {},
   "outputs": [
    {
     "data": {
      "text/plain": [
       "('ORD003', 450.0)"
      ]
     },
     "execution_count": 42,
     "metadata": {},
     "output_type": "execute_result"
    }
   ],
   "source": [
    "max_order_id = max(orders.items(), key = lambda x : x[1])\n",
    "max_order_id"
   ]
  },
  {
   "cell_type": "code",
   "execution_count": 51,
   "id": "1b4813ed",
   "metadata": {},
   "outputs": [
    {
     "data": {
      "text/plain": [
       "('apple', 3)"
      ]
     },
     "execution_count": 51,
     "metadata": {},
     "output_type": "execute_result"
    }
   ],
   "source": [
    "paragraph = \"apple banana apple orange banana apple\"\n",
    "# Hint: Use dictionary and string methods to count word occurrences.\n",
    "count_method = {item : paragraph.count(item) for item in paragraph.split()}\n",
    "count_method\n",
    "max(count_method.items() , key = lambda x : x[1])"
   ]
  },
  {
   "cell_type": "code",
   "execution_count": 53,
   "id": "25e4aacc",
   "metadata": {},
   "outputs": [
    {
     "data": {
      "text/plain": [
       "{'Inception': {'Alice': 5, 'Bob': 4},\n",
       " 'Titanic': {'Alice': 3, 'Charlie': 5},\n",
       " 'Avatar': {'Bob': 4, 'Charlie': 4, 'Alice': 5}}"
      ]
     },
     "execution_count": 53,
     "metadata": {},
     "output_type": "execute_result"
    }
   ],
   "source": [
    "movie_ratings = {\n",
    "    \"Inception\": {\"Alice\": 5, \"Bob\": 4},\n",
    "    \"Titanic\": {\"Alice\": 3, \"Charlie\": 5},\n",
    "    \"Avatar\": {\"Bob\": 4, \"Charlie\": 4},\n",
    "}\n",
    "movie_ratings['Avatar'][\"Alice\"] = 5\n",
    "movie_ratings"
   ]
  },
  {
   "cell_type": "code",
   "execution_count": 67,
   "id": "09613506",
   "metadata": {},
   "outputs": [
    {
     "data": {
      "text/plain": [
       "{'Inception': 4.5, 'Titanic': 4.0, 'Avatar': 4.333333333333333}"
      ]
     },
     "execution_count": 67,
     "metadata": {},
     "output_type": "execute_result"
    }
   ],
   "source": [
    "temp = {}\n",
    "for key, value in movie_ratings.items():\n",
    "    temp[key] = sum(value.values())/len(value.values())\n",
    "temp"
   ]
  },
  {
   "cell_type": "code",
   "execution_count": 69,
   "id": "b2b35202",
   "metadata": {},
   "outputs": [
    {
     "data": {
      "text/plain": [
       "'Inception'"
      ]
     },
     "execution_count": 69,
     "metadata": {},
     "output_type": "execute_result"
    }
   ],
   "source": [
    "max(temp.items(), key = lambda x : x[1])[0]"
   ]
  },
  {
   "cell_type": "code",
   "execution_count": 72,
   "id": "b5c83425",
   "metadata": {},
   "outputs": [
    {
     "data": {
      "text/plain": [
       "{'Inception': {'Alice': 5, 'Bob': 4},\n",
       " 'Titanic': {'Alice': 3, 'Charlie': 5},\n",
       " 'Avatar': {'Bob': 4, 'Charlie': 4, 'Alice': 5},\n",
       " 'Interstellar': {}}"
      ]
     },
     "execution_count": 72,
     "metadata": {},
     "output_type": "execute_result"
    }
   ],
   "source": [
    "movie_ratings['Interstellar'] = {}\n",
    "movie_ratings\n"
   ]
  },
  {
   "cell_type": "code",
   "execution_count": 4,
   "id": "cb86333b",
   "metadata": {},
   "outputs": [
    {
     "data": {
      "text/plain": [
       "{'John': ['2023-01-01', '2023-01-02'],\n",
       " 'Jane': ['2023-01-01', '2023-01-03'],\n",
       " 'Mike': ['2023-01-02', '2023-01-03']}"
      ]
     },
     "execution_count": 4,
     "metadata": {},
     "output_type": "execute_result"
    }
   ],
   "source": [
    "attendance = {\n",
    "    \"John\": [\"2023-01-01\", \"2023-01-02\"],\n",
    "    \"Jane\": [\"2023-01-01\"],\n",
    "    \"Mike\": [\"2023-01-02\", \"2023-01-03\"],\n",
    "}\n",
    "attendance[\"Jane\"].append(\"2023-01-03\")\n",
    "attendance"
   ]
  },
  {
   "cell_type": "code",
   "execution_count": 22,
   "id": "4e7eef3a",
   "metadata": {},
   "outputs": [
    {
     "data": {
      "text/plain": [
       "{'John': 2, 'Jane': 2, 'Mike': 2}"
      ]
     },
     "execution_count": 22,
     "metadata": {},
     "output_type": "execute_result"
    }
   ],
   "source": [
    "report = {}\n",
    "for key, value in attendance.items():\n",
    "    report[key] = len(attendance[key])\n",
    "report"
   ]
  },
  {
   "cell_type": "code",
   "execution_count": 23,
   "id": "a7b41365",
   "metadata": {},
   "outputs": [
    {
     "name": "stdout",
     "output_type": "stream",
     "text": [
      "absent\n"
     ]
    }
   ],
   "source": [
    "if \"2023-01-03\" in attendance['John']:\n",
    "    print(\"present\")\n",
    "else:\n",
    "    print(\"absent\")"
   ]
  },
  {
   "cell_type": "code",
   "execution_count": 25,
   "id": "4714832d",
   "metadata": {},
   "outputs": [
    {
     "data": {
      "text/plain": [
       "'John'"
      ]
     },
     "execution_count": 25,
     "metadata": {},
     "output_type": "execute_result"
    }
   ],
   "source": [
    "max(attendance.items(), key = lambda x : len(x[1]))[0]"
   ]
  },
  {
   "cell_type": "code",
   "execution_count": null,
   "id": "af48e4ee",
   "metadata": {},
   "outputs": [],
   "source": []
  }
 ],
 "metadata": {
  "kernelspec": {
   "display_name": "Python 3 (ipykernel)",
   "language": "python",
   "name": "python3"
  },
  "language_info": {
   "codemirror_mode": {
    "name": "ipython",
    "version": 3
   },
   "file_extension": ".py",
   "mimetype": "text/x-python",
   "name": "python",
   "nbconvert_exporter": "python",
   "pygments_lexer": "ipython3",
   "version": "3.9.7"
  }
 },
 "nbformat": 4,
 "nbformat_minor": 5
}
